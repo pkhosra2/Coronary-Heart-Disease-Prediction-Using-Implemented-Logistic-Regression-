{
  "nbformat": 4,
  "nbformat_minor": 0,
  "metadata": {
    "colab": {
      "name": "Final EE8209_Intelligent_Systems_Lab_2_Logistic_Regression.ipynb",
      "version": "0.3.2",
      "provenance": [],
      "collapsed_sections": []
    },
    "language_info": {
      "codemirror_mode": {
        "name": "ipython",
        "version": 3
      },
      "file_extension": ".py",
      "mimetype": "text/x-python",
      "name": "python",
      "nbconvert_exporter": "python",
      "pygments_lexer": "ipython3",
      "version": "3.7.3"
    },
    "kernelspec": {
      "name": "python3",
      "display_name": "Python 3"
    },
    "accelerator": "GPU"
  },
  "cells": [
    {
      "cell_type": "markdown",
      "metadata": {
        "id": "KKLzdtjCUbTc",
        "colab_type": "text"
      },
      "source": [
        "# Lab 2 - Gradient Descent for Logistic Regression\n",
        "## Pouya Khosravi\n",
        "### Student Number: 500630934"
      ]
    },
    {
      "cell_type": "markdown",
      "metadata": {
        "id": "qZbUSUVMUbTd",
        "colab_type": "text"
      },
      "source": [
        "## Dataset"
      ]
    },
    {
      "cell_type": "markdown",
      "metadata": {
        "id": "V8LX_20CUbTe",
        "colab_type": "text"
      },
      "source": [
        "A retrospective sample of males in a heart-disease high-risk region of the Western Cape,\n",
        "South Africa is given.\n",
        "\n",
        "This data is taken from a larger dataset, described in\n",
        "Rousseauw et al, 1983, South African Medical Journal.\n",
        "\n",
        "Below is a description of the variables:\n",
        "1. sbp: systolic blood pressure\n",
        "2. tobacco: cumulative tobacco (kg)\n",
        "3. ldl: low densiity lipoprotein cholesterol\n",
        "4. adiposity\n",
        "5. famhist: family history of heart disease (Present, Absent)\n",
        "6. typea: type-A behavior\n",
        "7. obesity\n",
        "8. alcohol: current alcohol consumption\n",
        "9. age: age at onset\n",
        "10. chd: coronary heart disease"
      ]
    },
    {
      "cell_type": "markdown",
      "metadata": {
        "id": "vTu8AjsYUbTg",
        "colab_type": "text"
      },
      "source": [
        "## Goal"
      ]
    },
    {
      "cell_type": "markdown",
      "metadata": {
        "id": "IUY1IloQUbTi",
        "colab_type": "text"
      },
      "source": [
        "Our goal is predicting coronary heart disease which has two classes of 0 or 1 using Logistic\n",
        "Regression based on all features (1 to 9)."
      ]
    },
    {
      "cell_type": "markdown",
      "metadata": {
        "id": "9dyNlyxqUbTk",
        "colab_type": "text"
      },
      "source": [
        "## Setting Up Our Libraries "
      ]
    },
    {
      "cell_type": "code",
      "metadata": {
        "id": "GRtReKnSUbTm",
        "colab_type": "code",
        "colab": {}
      },
      "source": [
        "import numpy as np \n",
        "import pandas as pd \n",
        "import matplotlib.pyplot as plt \n",
        "import random\n",
        "import math\n",
        "from sklearn.linear_model import LogisticRegression\n",
        "import seaborn as sns"
      ],
      "execution_count": 0,
      "outputs": []
    },
    {
      "cell_type": "markdown",
      "metadata": {
        "id": "IRAiB5xyUbTt",
        "colab_type": "text"
      },
      "source": [
        "## Importing Our Dataset \n",
        "\n",
        "First we will import the dataset we will be working with so that we can modify the structure and cleaning it up for further processing"
      ]
    },
    {
      "cell_type": "code",
      "metadata": {
        "id": "U7FJjITNUbTv",
        "colab_type": "code",
        "colab": {}
      },
      "source": [
        "df = pd.read_csv('https://raw.githubusercontent.com/tofighi/MachineLearning/master/datasets/heart.csv')"
      ],
      "execution_count": 0,
      "outputs": []
    },
    {
      "cell_type": "code",
      "metadata": {
        "id": "u44NsfUDUbT1",
        "colab_type": "code",
        "outputId": "45aeea85-b04b-4352-c1e2-9fdc39e819a6",
        "colab": {
          "base_uri": "https://localhost:8080/",
          "height": 204
        }
      },
      "source": [
        "df.head()"
      ],
      "execution_count": 3,
      "outputs": [
        {
          "output_type": "execute_result",
          "data": {
            "text/html": [
              "<div>\n",
              "<style scoped>\n",
              "    .dataframe tbody tr th:only-of-type {\n",
              "        vertical-align: middle;\n",
              "    }\n",
              "\n",
              "    .dataframe tbody tr th {\n",
              "        vertical-align: top;\n",
              "    }\n",
              "\n",
              "    .dataframe thead th {\n",
              "        text-align: right;\n",
              "    }\n",
              "</style>\n",
              "<table border=\"1\" class=\"dataframe\">\n",
              "  <thead>\n",
              "    <tr style=\"text-align: right;\">\n",
              "      <th></th>\n",
              "      <th>row.names</th>\n",
              "      <th>sbp</th>\n",
              "      <th>tobacco</th>\n",
              "      <th>ldl</th>\n",
              "      <th>adiposity</th>\n",
              "      <th>famhist</th>\n",
              "      <th>typea</th>\n",
              "      <th>obesity</th>\n",
              "      <th>alcohol</th>\n",
              "      <th>age</th>\n",
              "      <th>chd</th>\n",
              "    </tr>\n",
              "  </thead>\n",
              "  <tbody>\n",
              "    <tr>\n",
              "      <th>0</th>\n",
              "      <td>1</td>\n",
              "      <td>160</td>\n",
              "      <td>12.00</td>\n",
              "      <td>5.73</td>\n",
              "      <td>23.11</td>\n",
              "      <td>Present</td>\n",
              "      <td>49</td>\n",
              "      <td>25.30</td>\n",
              "      <td>97.20</td>\n",
              "      <td>52</td>\n",
              "      <td>1</td>\n",
              "    </tr>\n",
              "    <tr>\n",
              "      <th>1</th>\n",
              "      <td>2</td>\n",
              "      <td>144</td>\n",
              "      <td>0.01</td>\n",
              "      <td>4.41</td>\n",
              "      <td>28.61</td>\n",
              "      <td>Absent</td>\n",
              "      <td>55</td>\n",
              "      <td>28.87</td>\n",
              "      <td>2.06</td>\n",
              "      <td>63</td>\n",
              "      <td>1</td>\n",
              "    </tr>\n",
              "    <tr>\n",
              "      <th>2</th>\n",
              "      <td>3</td>\n",
              "      <td>118</td>\n",
              "      <td>0.08</td>\n",
              "      <td>3.48</td>\n",
              "      <td>32.28</td>\n",
              "      <td>Present</td>\n",
              "      <td>52</td>\n",
              "      <td>29.14</td>\n",
              "      <td>3.81</td>\n",
              "      <td>46</td>\n",
              "      <td>0</td>\n",
              "    </tr>\n",
              "    <tr>\n",
              "      <th>3</th>\n",
              "      <td>4</td>\n",
              "      <td>170</td>\n",
              "      <td>7.50</td>\n",
              "      <td>6.41</td>\n",
              "      <td>38.03</td>\n",
              "      <td>Present</td>\n",
              "      <td>51</td>\n",
              "      <td>31.99</td>\n",
              "      <td>24.26</td>\n",
              "      <td>58</td>\n",
              "      <td>1</td>\n",
              "    </tr>\n",
              "    <tr>\n",
              "      <th>4</th>\n",
              "      <td>5</td>\n",
              "      <td>134</td>\n",
              "      <td>13.60</td>\n",
              "      <td>3.50</td>\n",
              "      <td>27.78</td>\n",
              "      <td>Present</td>\n",
              "      <td>60</td>\n",
              "      <td>25.99</td>\n",
              "      <td>57.34</td>\n",
              "      <td>49</td>\n",
              "      <td>1</td>\n",
              "    </tr>\n",
              "  </tbody>\n",
              "</table>\n",
              "</div>"
            ],
            "text/plain": [
              "   row.names  sbp  tobacco   ldl  adiposity  ... typea  obesity  alcohol  age  chd\n",
              "0          1  160    12.00  5.73      23.11  ...    49    25.30    97.20   52    1\n",
              "1          2  144     0.01  4.41      28.61  ...    55    28.87     2.06   63    1\n",
              "2          3  118     0.08  3.48      32.28  ...    52    29.14     3.81   46    0\n",
              "3          4  170     7.50  6.41      38.03  ...    51    31.99    24.26   58    1\n",
              "4          5  134    13.60  3.50      27.78  ...    60    25.99    57.34   49    1\n",
              "\n",
              "[5 rows x 11 columns]"
            ]
          },
          "metadata": {
            "tags": []
          },
          "execution_count": 3
        }
      ]
    },
    {
      "cell_type": "markdown",
      "metadata": {
        "id": "YIqqCqYQ54i7",
        "colab_type": "text"
      },
      "source": [
        "First, we will use one-hot encoding for the catagorical variable 'famhist'. Next, we will drop the 'chd' and and 'row.names'"
      ]
    },
    {
      "cell_type": "code",
      "metadata": {
        "id": "FdgAgxC-UbUD",
        "colab_type": "code",
        "colab": {}
      },
      "source": [
        "one_hot = pd.get_dummies(df['famhist'])               # get the one hot encoding of the family history column \n",
        "df.insert(1,'Absent',one_hot[\"Absent\"])\n",
        "df.insert(2,'Present',one_hot[\"Present\"])\n",
        "\n",
        "df_new = df.drop(['famhist','row.names','chd'], axis=1)                    # drop the family history catagorical column "
      ],
      "execution_count": 0,
      "outputs": []
    },
    {
      "cell_type": "markdown",
      "metadata": {
        "id": "GT0vp9nEUbUc",
        "colab_type": "text"
      },
      "source": [
        "Since our goal is to predict coronary heart disease being either part of class 0 or class 1, we will use it as our y variable of our function "
      ]
    },
    {
      "cell_type": "markdown",
      "metadata": {
        "id": "j__EPY4T6PM5",
        "colab_type": "text"
      },
      "source": [
        "Now we will insert our bias to our dataframe column, with all values of the column being 1"
      ]
    },
    {
      "cell_type": "code",
      "metadata": {
        "id": "1NVQQ7JBUbUk",
        "colab_type": "code",
        "colab": {}
      },
      "source": [
        "\n",
        "\n",
        "df_new.insert(0, column='Xo', value=1)\n"
      ],
      "execution_count": 0,
      "outputs": []
    },
    {
      "cell_type": "code",
      "metadata": {
        "id": "yuJGpy9BUbUn",
        "colab_type": "code",
        "outputId": "2539e67b-0c69-46bd-c1c1-c15c3ee3c3d0",
        "colab": {
          "base_uri": "https://localhost:8080/",
          "height": 204
        }
      },
      "source": [
        "df_new.head()"
      ],
      "execution_count": 6,
      "outputs": [
        {
          "output_type": "execute_result",
          "data": {
            "text/html": [
              "<div>\n",
              "<style scoped>\n",
              "    .dataframe tbody tr th:only-of-type {\n",
              "        vertical-align: middle;\n",
              "    }\n",
              "\n",
              "    .dataframe tbody tr th {\n",
              "        vertical-align: top;\n",
              "    }\n",
              "\n",
              "    .dataframe thead th {\n",
              "        text-align: right;\n",
              "    }\n",
              "</style>\n",
              "<table border=\"1\" class=\"dataframe\">\n",
              "  <thead>\n",
              "    <tr style=\"text-align: right;\">\n",
              "      <th></th>\n",
              "      <th>Xo</th>\n",
              "      <th>Absent</th>\n",
              "      <th>Present</th>\n",
              "      <th>sbp</th>\n",
              "      <th>tobacco</th>\n",
              "      <th>ldl</th>\n",
              "      <th>adiposity</th>\n",
              "      <th>typea</th>\n",
              "      <th>obesity</th>\n",
              "      <th>alcohol</th>\n",
              "      <th>age</th>\n",
              "    </tr>\n",
              "  </thead>\n",
              "  <tbody>\n",
              "    <tr>\n",
              "      <th>0</th>\n",
              "      <td>1</td>\n",
              "      <td>0</td>\n",
              "      <td>1</td>\n",
              "      <td>160</td>\n",
              "      <td>12.00</td>\n",
              "      <td>5.73</td>\n",
              "      <td>23.11</td>\n",
              "      <td>49</td>\n",
              "      <td>25.30</td>\n",
              "      <td>97.20</td>\n",
              "      <td>52</td>\n",
              "    </tr>\n",
              "    <tr>\n",
              "      <th>1</th>\n",
              "      <td>1</td>\n",
              "      <td>1</td>\n",
              "      <td>0</td>\n",
              "      <td>144</td>\n",
              "      <td>0.01</td>\n",
              "      <td>4.41</td>\n",
              "      <td>28.61</td>\n",
              "      <td>55</td>\n",
              "      <td>28.87</td>\n",
              "      <td>2.06</td>\n",
              "      <td>63</td>\n",
              "    </tr>\n",
              "    <tr>\n",
              "      <th>2</th>\n",
              "      <td>1</td>\n",
              "      <td>0</td>\n",
              "      <td>1</td>\n",
              "      <td>118</td>\n",
              "      <td>0.08</td>\n",
              "      <td>3.48</td>\n",
              "      <td>32.28</td>\n",
              "      <td>52</td>\n",
              "      <td>29.14</td>\n",
              "      <td>3.81</td>\n",
              "      <td>46</td>\n",
              "    </tr>\n",
              "    <tr>\n",
              "      <th>3</th>\n",
              "      <td>1</td>\n",
              "      <td>0</td>\n",
              "      <td>1</td>\n",
              "      <td>170</td>\n",
              "      <td>7.50</td>\n",
              "      <td>6.41</td>\n",
              "      <td>38.03</td>\n",
              "      <td>51</td>\n",
              "      <td>31.99</td>\n",
              "      <td>24.26</td>\n",
              "      <td>58</td>\n",
              "    </tr>\n",
              "    <tr>\n",
              "      <th>4</th>\n",
              "      <td>1</td>\n",
              "      <td>0</td>\n",
              "      <td>1</td>\n",
              "      <td>134</td>\n",
              "      <td>13.60</td>\n",
              "      <td>3.50</td>\n",
              "      <td>27.78</td>\n",
              "      <td>60</td>\n",
              "      <td>25.99</td>\n",
              "      <td>57.34</td>\n",
              "      <td>49</td>\n",
              "    </tr>\n",
              "  </tbody>\n",
              "</table>\n",
              "</div>"
            ],
            "text/plain": [
              "   Xo  Absent  Present  sbp  tobacco  ...  adiposity  typea  obesity  alcohol  age\n",
              "0   1       0        1  160    12.00  ...      23.11     49    25.30    97.20   52\n",
              "1   1       1        0  144     0.01  ...      28.61     55    28.87     2.06   63\n",
              "2   1       0        1  118     0.08  ...      32.28     52    29.14     3.81   46\n",
              "3   1       0        1  170     7.50  ...      38.03     51    31.99    24.26   58\n",
              "4   1       0        1  134    13.60  ...      27.78     60    25.99    57.34   49\n",
              "\n",
              "[5 rows x 11 columns]"
            ]
          },
          "metadata": {
            "tags": []
          },
          "execution_count": 6
        }
      ]
    },
    {
      "cell_type": "markdown",
      "metadata": {
        "id": "q-TBYeN86cLW",
        "colab_type": "text"
      },
      "source": [
        "Now we will identify the different parts of our dataframe based on our goal. Since we are interested in the likelyhood of contracting coronary heart disease, we need to set this column as our output and the rest of the dataframe columns as our feature set of the dataset"
      ]
    },
    {
      "cell_type": "code",
      "metadata": {
        "id": "Udf7wQ-KUbUu",
        "colab_type": "code",
        "outputId": "9385e9a8-9c5f-4b6d-b9f5-26b28fac60e1",
        "colab": {
          "base_uri": "https://localhost:8080/",
          "height": 204
        }
      },
      "source": [
        "y = df['chd']                                # label-set\n",
        "X = df_new                                   # feature-set\n",
        "                                    \n",
        "X.head()"
      ],
      "execution_count": 7,
      "outputs": [
        {
          "output_type": "execute_result",
          "data": {
            "text/html": [
              "<div>\n",
              "<style scoped>\n",
              "    .dataframe tbody tr th:only-of-type {\n",
              "        vertical-align: middle;\n",
              "    }\n",
              "\n",
              "    .dataframe tbody tr th {\n",
              "        vertical-align: top;\n",
              "    }\n",
              "\n",
              "    .dataframe thead th {\n",
              "        text-align: right;\n",
              "    }\n",
              "</style>\n",
              "<table border=\"1\" class=\"dataframe\">\n",
              "  <thead>\n",
              "    <tr style=\"text-align: right;\">\n",
              "      <th></th>\n",
              "      <th>Xo</th>\n",
              "      <th>Absent</th>\n",
              "      <th>Present</th>\n",
              "      <th>sbp</th>\n",
              "      <th>tobacco</th>\n",
              "      <th>ldl</th>\n",
              "      <th>adiposity</th>\n",
              "      <th>typea</th>\n",
              "      <th>obesity</th>\n",
              "      <th>alcohol</th>\n",
              "      <th>age</th>\n",
              "    </tr>\n",
              "  </thead>\n",
              "  <tbody>\n",
              "    <tr>\n",
              "      <th>0</th>\n",
              "      <td>1</td>\n",
              "      <td>0</td>\n",
              "      <td>1</td>\n",
              "      <td>160</td>\n",
              "      <td>12.00</td>\n",
              "      <td>5.73</td>\n",
              "      <td>23.11</td>\n",
              "      <td>49</td>\n",
              "      <td>25.30</td>\n",
              "      <td>97.20</td>\n",
              "      <td>52</td>\n",
              "    </tr>\n",
              "    <tr>\n",
              "      <th>1</th>\n",
              "      <td>1</td>\n",
              "      <td>1</td>\n",
              "      <td>0</td>\n",
              "      <td>144</td>\n",
              "      <td>0.01</td>\n",
              "      <td>4.41</td>\n",
              "      <td>28.61</td>\n",
              "      <td>55</td>\n",
              "      <td>28.87</td>\n",
              "      <td>2.06</td>\n",
              "      <td>63</td>\n",
              "    </tr>\n",
              "    <tr>\n",
              "      <th>2</th>\n",
              "      <td>1</td>\n",
              "      <td>0</td>\n",
              "      <td>1</td>\n",
              "      <td>118</td>\n",
              "      <td>0.08</td>\n",
              "      <td>3.48</td>\n",
              "      <td>32.28</td>\n",
              "      <td>52</td>\n",
              "      <td>29.14</td>\n",
              "      <td>3.81</td>\n",
              "      <td>46</td>\n",
              "    </tr>\n",
              "    <tr>\n",
              "      <th>3</th>\n",
              "      <td>1</td>\n",
              "      <td>0</td>\n",
              "      <td>1</td>\n",
              "      <td>170</td>\n",
              "      <td>7.50</td>\n",
              "      <td>6.41</td>\n",
              "      <td>38.03</td>\n",
              "      <td>51</td>\n",
              "      <td>31.99</td>\n",
              "      <td>24.26</td>\n",
              "      <td>58</td>\n",
              "    </tr>\n",
              "    <tr>\n",
              "      <th>4</th>\n",
              "      <td>1</td>\n",
              "      <td>0</td>\n",
              "      <td>1</td>\n",
              "      <td>134</td>\n",
              "      <td>13.60</td>\n",
              "      <td>3.50</td>\n",
              "      <td>27.78</td>\n",
              "      <td>60</td>\n",
              "      <td>25.99</td>\n",
              "      <td>57.34</td>\n",
              "      <td>49</td>\n",
              "    </tr>\n",
              "  </tbody>\n",
              "</table>\n",
              "</div>"
            ],
            "text/plain": [
              "   Xo  Absent  Present  sbp  tobacco  ...  adiposity  typea  obesity  alcohol  age\n",
              "0   1       0        1  160    12.00  ...      23.11     49    25.30    97.20   52\n",
              "1   1       1        0  144     0.01  ...      28.61     55    28.87     2.06   63\n",
              "2   1       0        1  118     0.08  ...      32.28     52    29.14     3.81   46\n",
              "3   1       0        1  170     7.50  ...      38.03     51    31.99    24.26   58\n",
              "4   1       0        1  134    13.60  ...      27.78     60    25.99    57.34   49\n",
              "\n",
              "[5 rows x 11 columns]"
            ]
          },
          "metadata": {
            "tags": []
          },
          "execution_count": 7
        }
      ]
    },
    {
      "cell_type": "markdown",
      "metadata": {
        "id": "Mtv0fmQY7Wr0",
        "colab_type": "text"
      },
      "source": [
        "## Standardization \n",
        "Now we want to normalize our dataset, to do this we will only normalize our non-catagorical variables and bias (i.e. the absent, present, and Xo columns)"
      ]
    },
    {
      "cell_type": "code",
      "metadata": {
        "id": "oAQGUzZ4xHQ_",
        "colab_type": "code",
        "colab": {}
      },
      "source": [
        "for i in range(3, X.shape[1]):                    #taking the columns of the datframe after the 3rd column \n",
        "    avg = X.iloc[:,i].mean()                      #calculating the mean of X dataframe \n",
        "    sigma = X.iloc[:,i].std()                     #calculating the standard deviation of X dataframe \n",
        "    X.iloc[:,i] = (X.iloc[:,i] - avg) / sigma     #normalizing the X dataframe "
      ],
      "execution_count": 0,
      "outputs": []
    },
    {
      "cell_type": "markdown",
      "metadata": {
        "id": "FdTh1yRXUbU2",
        "colab_type": "text"
      },
      "source": [
        "## Exploratory Data Analysis"
      ]
    },
    {
      "cell_type": "markdown",
      "metadata": {
        "id": "75w6lv7lUbU7",
        "colab_type": "text"
      },
      "source": [
        "#### What is the percentage of each class? (class 0 and class 1)?"
      ]
    },
    {
      "cell_type": "code",
      "metadata": {
        "id": "a1Wvd9VJUbVD",
        "colab_type": "code",
        "outputId": "b242cca8-c09f-422c-96e2-acfdcb3234f3",
        "colab": {
          "base_uri": "https://localhost:8080/",
          "height": 51
        }
      },
      "source": [
        "total = y.value_counts(1)\n",
        "\n",
        "print('Positive for chd:\\t' + str(round(total[0]*100,1)) + '%')\n",
        "print('Negative for chd:\\t' + str(round(total[1]*100,1)) + '%')\n"
      ],
      "execution_count": 9,
      "outputs": [
        {
          "output_type": "stream",
          "text": [
            "Positive for chd:\t65.4%\n",
            "Negative for chd:\t34.6%\n"
          ],
          "name": "stdout"
        }
      ]
    },
    {
      "cell_type": "markdown",
      "metadata": {
        "id": "C4jMJ7XAUbVI",
        "colab_type": "text"
      },
      "source": [
        "#### How many missing values do we have?"
      ]
    },
    {
      "cell_type": "code",
      "metadata": {
        "id": "cleCTZ-fUbVJ",
        "colab_type": "code",
        "outputId": "9ebd14da-b988-4d2a-cfbe-326cd6a576f2",
        "colab": {
          "base_uri": "https://localhost:8080/",
          "height": 289
        }
      },
      "source": [
        "print('\\nMissing values:')\n",
        "print(df.isnull().sum())"
      ],
      "execution_count": 10,
      "outputs": [
        {
          "output_type": "stream",
          "text": [
            "\n",
            "Missing values:\n",
            "row.names    0\n",
            "Absent       0\n",
            "Present      0\n",
            "sbp          0\n",
            "tobacco      0\n",
            "ldl          0\n",
            "adiposity    0\n",
            "famhist      0\n",
            "typea        0\n",
            "obesity      0\n",
            "alcohol      0\n",
            "age          0\n",
            "chd          0\n",
            "dtype: int64\n"
          ],
          "name": "stdout"
        }
      ]
    },
    {
      "cell_type": "markdown",
      "metadata": {
        "id": "6elwC2jvUbVM",
        "colab_type": "text"
      },
      "source": [
        "Therefore, we can say with confidence that there are no missiing values from this dataset "
      ]
    },
    {
      "cell_type": "markdown",
      "metadata": {
        "id": "eiSnhYUaUbVM",
        "colab_type": "text"
      },
      "source": [
        "#### How many categorical variables do you have in your features?"
      ]
    },
    {
      "cell_type": "code",
      "metadata": {
        "id": "rmSjg6opUbVN",
        "colab_type": "code",
        "outputId": "2fd23109-aa21-4e0a-b129-3920388cc1a2",
        "colab": {
          "base_uri": "https://localhost:8080/",
          "height": 119
        }
      },
      "source": [
        "print(df['famhist'].head())"
      ],
      "execution_count": 11,
      "outputs": [
        {
          "output_type": "stream",
          "text": [
            "0    Present\n",
            "1     Absent\n",
            "2    Present\n",
            "3    Present\n",
            "4    Present\n",
            "Name: famhist, dtype: object\n"
          ],
          "name": "stdout"
        }
      ]
    },
    {
      "cell_type": "markdown",
      "metadata": {
        "id": "6C6qYo8wUbVT",
        "colab_type": "text"
      },
      "source": [
        "Therefore, the only catagorical variable in this dataset is the 'famhist' or family histogram coloumn of the dataframe"
      ]
    },
    {
      "cell_type": "markdown",
      "metadata": {
        "id": "uk0YH7aBUbVT",
        "colab_type": "text"
      },
      "source": [
        "#### What features have the maximum corrolation?"
      ]
    },
    {
      "cell_type": "code",
      "metadata": {
        "id": "yRMtaxjGUbVU",
        "colab_type": "code",
        "colab": {}
      },
      "source": [
        "def correlation_matrix(df_corr):\n",
        "    corr = df_corr.corr()\n",
        "    plt.figure(figsize=(12, 12))\n",
        "    sns.heatmap(corr, cmap=sns.color_palette(\"Blues\"), vmax=.3,annot=True, center=0,\n",
        "            square=True, linewidths=.5, cbar_kws={\"shrink\": .5})\n",
        "    plt.title('Correlation Matrix for Feature Set')\n",
        "    plt.show()"
      ],
      "execution_count": 0,
      "outputs": []
    },
    {
      "cell_type": "code",
      "metadata": {
        "id": "d54VSrf1UbVX",
        "colab_type": "code",
        "outputId": "ead51507-2047-4929-abdb-0db0de0a0534",
        "colab": {
          "base_uri": "https://localhost:8080/",
          "height": 600
        }
      },
      "source": [
        "correlation_matrix(X)"
      ],
      "execution_count": 13,
      "outputs": [
        {
          "output_type": "display_data",
          "data": {
            "image/png": "[encoded data removed]",
            "text/plain": [
              "<Figure size 864x864 with 2 Axes>"
            ]
          },
          "metadata": {
            "tags": []
          }
        }
      ]
    },
    {
      "cell_type": "markdown",
      "metadata": {
        "id": "MSVfV67cUbVa",
        "colab_type": "text"
      },
      "source": [
        "As we can see from the correlation matrix, adiposity and age, adiposity and obesity, and tobacco and age "
      ]
    },
    {
      "cell_type": "markdown",
      "metadata": {
        "id": "QvdvsmRTUbVb",
        "colab_type": "text"
      },
      "source": [
        "## Defining Our Functions "
      ]
    },
    {
      "cell_type": "markdown",
      "metadata": {
        "id": "miAWC9yvUbVc",
        "colab_type": "text"
      },
      "source": [
        "Now we will begin to define our functions for performing our logistic regression on the dataset that we have modified. To do so we need to define a few functions first."
      ]
    },
    {
      "cell_type": "markdown",
      "metadata": {
        "id": "i1zIG3z5UbVc",
        "colab_type": "text"
      },
      "source": [
        "### Hypothesis Model Definition"
      ]
    },
    {
      "cell_type": "markdown",
      "metadata": {
        "id": "rbQovTbIUbVd",
        "colab_type": "text"
      },
      "source": [
        "We will be defining the sigmoid function or our hypothesis model."
      ]
    },
    {
      "cell_type": "code",
      "metadata": {
        "id": "tq0uStLbUbVe",
        "colab_type": "code",
        "colab": {}
      },
      "source": [
        "def sigmoid(x, thetas):\n",
        "    \n",
        "    z = np.matmul(x, thetas.T)\n",
        "    \n",
        "    h  = 1 / (1 + np.exp(-z))    \n",
        "    \n",
        "    return h"
      ],
      "execution_count": 0,
      "outputs": []
    },
    {
      "cell_type": "markdown",
      "metadata": {
        "id": "guL9s-6tUbVh",
        "colab_type": "text"
      },
      "source": [
        "Next, we will define our cost function. For logisitc regression, the cost function is a little different, when compared to linear regression. It is instead calculated by using the binary cross-entropy loss function for a set of training examples with binary labels. "
      ]
    },
    {
      "cell_type": "markdown",
      "metadata": {
        "id": "1zDIG0TSUbVi",
        "colab_type": "text"
      },
      "source": [
        "### Cost Function Definition "
      ]
    },
    {
      "cell_type": "code",
      "metadata": {
        "id": "DcutBPLAUbVi",
        "colab_type": "code",
        "colab": {}
      },
      "source": [
        "def calc_cost(h, y):\n",
        "    \n",
        "    m = len(h)\n",
        "    total_cost = 0\n",
        "    \n",
        "    cost = np.matmul(y.T, np.log(h)) + np.matmul((1-y).T, np.log(1-h))  #mtmul used for quicker calculations\n",
        "    cost = -cost / m\n",
        "    \n",
        "    return cost"
      ],
      "execution_count": 0,
      "outputs": []
    },
    {
      "cell_type": "markdown",
      "metadata": {
        "id": "2507JJWpUbVm",
        "colab_type": "text"
      },
      "source": [
        "### Batch Gradient Descent Definition "
      ]
    },
    {
      "cell_type": "markdown",
      "metadata": {
        "id": "PxSAWJPSUbVn",
        "colab_type": "text"
      },
      "source": [
        "This function will perform a mini batch gradient descent on all of our mini batches and return our converged weights and costs for our dataset\n"
      ]
    },
    {
      "cell_type": "code",
      "metadata": {
        "id": "_HzF1M66UbVo",
        "colab_type": "code",
        "colab": {}
      },
      "source": [
        "def batch_grad_descent(x,h, y, theta_old, alpha):\n",
        "    \n",
        "    m = len(y)\n",
        "    \n",
        "    sigma = np.matmul((np.array(y.T) - np.array(h.T)), np.array(x))\n",
        "    sigma = sigma*alpha/m\n",
        "    \n",
        "    for i in range(0, len(theta_old.T)):\n",
        "      \n",
        "        theta_old[0,i] = theta_old[0,i] + sigma[0,i]\n",
        "\n",
        "    return theta_old"
      ],
      "execution_count": 0,
      "outputs": []
    },
    {
      "cell_type": "markdown",
      "metadata": {
        "id": "HDXacqNbUbVq",
        "colab_type": "text"
      },
      "source": [
        "### Batch Size Function ( For Mini Batch Gradient Descent) "
      ]
    },
    {
      "cell_type": "code",
      "metadata": {
        "id": "lU_SXv4pjsxY",
        "colab_type": "code",
        "colab": {}
      },
      "source": [
        "def batches(input, batch_size):\n",
        "  \n",
        "    for i in range(0, len(input), batch_size):\n",
        "      \n",
        "        yield input[i:i+batch_size]"
      ],
      "execution_count": 0,
      "outputs": []
    },
    {
      "cell_type": "markdown",
      "metadata": {
        "id": "Ok2vC2WS-UYP",
        "colab_type": "text"
      },
      "source": [
        "## Initializing Our Weights "
      ]
    },
    {
      "cell_type": "markdown",
      "metadata": {
        "id": "vKYfogBm-afH",
        "colab_type": "text"
      },
      "source": [
        "Now we will begin to initialize our weights randomly with a specific seed at the size of the X features dataframe "
      ]
    },
    {
      "cell_type": "code",
      "metadata": {
        "id": "DM8qCTx3m6xe",
        "colab_type": "code",
        "colab": {}
      },
      "source": [
        "np.random.seed(seed=69)                  #calculating random value for each feature weight\n",
        "thetaInit = np.random.rand(1,X.shape[1]) # random seed every time\n",
        "\n",
        "thetaInit = np.array(thetaInit)          #converting the weights into a numpy array \n",
        "theta = thetaInit.copy()\n",
        "\n"
      ],
      "execution_count": 0,
      "outputs": []
    },
    {
      "cell_type": "markdown",
      "metadata": {
        "id": "67HunIJErP24",
        "colab_type": "text"
      },
      "source": [
        "## Performing Iterative  Batch Gradient Descent \n"
      ]
    },
    {
      "cell_type": "markdown",
      "metadata": {
        "id": "ZfIAQo27rXbC",
        "colab_type": "text"
      },
      "source": [
        "Firstly, we will perform a regular batch gradient descent using the values for alpha and epochs given to produce the necessary graphs for each scenario. "
      ]
    },
    {
      "cell_type": "code",
      "metadata": {
        "id": "3sI7sGgcrOrt",
        "colab_type": "code",
        "outputId": "6dd6b4c8-2da7-43fe-8744-e82b1f9b78cc",
        "colab": {
          "base_uri": "https://localhost:8080/",
          "height": 459
        }
      },
      "source": [
        "X = np.array(X) # avoids dataframe overhead\n",
        "y = np.array(y) # avoids dataframe overhead\n",
        "\n",
        "epochs = [500, 1000, 10000]\n",
        "\n",
        "max_epochs = max(epochs)\n",
        "\n",
        "cost1 = [0]*max_epochs               #initializing the cost array for alpha = 0.001\n",
        "thetas = thetaInit.copy()\n",
        "\n",
        "print('Starting Batch Epochs for alpha = 0.001...\\n')\n",
        "\n",
        "for i in range(0,max_epochs):\n",
        "            \n",
        "            h = sigmoid(X,thetas)\n",
        "            cost1[i] = calc_cost(h, y)\n",
        "            thetas = batch_grad_descent(X, h, y, thetas, 0.001)\n",
        "            \n",
        "            if i % 1000 == 0:\n",
        "                print(i,\"epochs finished\\t\" + 'cost:' + str(cost1[i]))\n",
        "\n",
        "cost2 = [0]*max_epochs              #initializing the cost array for alpha = 0.0001\n",
        "thetas = thetaInit.copy()\n",
        "\n",
        "print('\\n')\n",
        "print('Starting Batch Epochs for alpha = 0.0001...\\n')\n",
        "\n",
        "for i in range(0,max_epochs):\n",
        "        \n",
        "            h = sigmoid(X,thetas)\n",
        "            cost2[i] = calc_cost(h, y)\n",
        "            thetas = batch_grad_descent(X, h, y, thetas, 0.0001)\n",
        "            \n",
        "            if i % 1000 == 0:\n",
        "                print(i,\"epochs finished\\t\" + 'cost:' + str(cost2[i]))\n",
        "        \n",
        "   "
      ],
      "execution_count": 19,
      "outputs": [
        {
          "output_type": "stream",
          "text": [
            "Starting Batch Epochs for alpha = 0.001...\n",
            "\n",
            "0 epochs finished\tcost:[0.99591822]\n",
            "1000 epochs finished\tcost:[0.83600517]\n",
            "2000 epochs finished\tcost:[0.72105862]\n",
            "3000 epochs finished\tcost:[0.64476839]\n",
            "4000 epochs finished\tcost:[0.59727348]\n",
            "5000 epochs finished\tcost:[0.56862803]\n",
            "6000 epochs finished\tcost:[0.55128631]\n",
            "7000 epochs finished\tcost:[0.54045968]\n",
            "8000 epochs finished\tcost:[0.53338902]\n",
            "9000 epochs finished\tcost:[0.52854456]\n",
            "\n",
            "\n",
            "Starting Batch Epochs for alpha = 0.0001...\n",
            "\n",
            "0 epochs finished\tcost:[0.99591822]\n",
            "1000 epochs finished\tcost:[0.97783154]\n",
            "2000 epochs finished\tcost:[0.96021127]\n",
            "3000 epochs finished\tcost:[0.94305803]\n",
            "4000 epochs finished\tcost:[0.92637198]\n",
            "5000 epochs finished\tcost:[0.91015282]\n",
            "6000 epochs finished\tcost:[0.89439973]\n",
            "7000 epochs finished\tcost:[0.8791114]\n",
            "8000 epochs finished\tcost:[0.864286]\n",
            "9000 epochs finished\tcost:[0.84992113]\n"
          ],
          "name": "stdout"
        }
      ]
    },
    {
      "cell_type": "markdown",
      "metadata": {
        "id": "3E7lmQGZdLYB",
        "colab_type": "text"
      },
      "source": [
        "Next, we will plot the graph for each cost that was found from the cell above (a total of 6 charts)"
      ]
    },
    {
      "cell_type": "code",
      "metadata": {
        "id": "TtWcbe92blMh",
        "colab_type": "code",
        "outputId": "7c5f4ba2-ba99-44c9-f903-c9706f53a208",
        "colab": {
          "base_uri": "https://localhost:8080/",
          "height": 1685
        }
      },
      "source": [
        "for epoch in epochs:\n",
        "  \n",
        "    plt.scatter(np.linspace(1,epoch,epoch), cost1[0:epoch])\n",
        "    \n",
        "    plt.title('Batch Cost for alpha = 0.001 , Epochs:' + str(epoch))\n",
        "    plt.xlabel('Epoch')\n",
        "    plt.ylabel('Cost')\n",
        "    plt.grid()\n",
        "    plt.show()\n",
        "    \n",
        "    plt.scatter(np.linspace(1,epoch,epoch), cost2[0:epoch])\n",
        "    \n",
        "    plt.title('Batch Cost for alpha = 0.0001 , Epochs:' + str(epoch))\n",
        "    plt.xlabel('Epoch')\n",
        "    plt.ylabel('Cost')\n",
        "    plt.grid()\n",
        "    plt.show()"
      ],
      "execution_count": 20,
      "outputs": [
        {
          "output_type": "display_data",
          "data": {
            "image/png": "[encoded data removed]",
            "text/plain": [
              "<Figure size 432x288 with 1 Axes>"
            ]
          },
          "metadata": {
            "tags": []
          }
        },
        {
          "output_type": "display_data",
          "data": {
            "image/png": "[encoded data removed]",
            "text/plain": [
              "<Figure size 432x288 with 1 Axes>"
            ]
          },
          "metadata": {
            "tags": []
          }
        },
        {
          "output_type": "display_data",
          "data": {
            "image/png": "[encoded data removed]",
            "text/plain": [
              "<Figure size 432x288 with 1 Axes>"
            ]
          },
          "metadata": {
            "tags": []
          }
        },
        {
          "output_type": "display_data",
          "data": {
            "image/png": "[encoded data removed]",
            "text/plain": [
              "<Figure size 432x288 with 1 Axes>"
            ]
          },
          "metadata": {
            "tags": []
          }
        },
        {
          "output_type": "display_data",
          "data": {
            "image/png": "[encoded data removed]",
            "text/plain": [
              "<Figure size 432x288 with 1 Axes>"
            ]
          },
          "metadata": {
            "tags": []
          }
        },
        {
          "output_type": "display_data",
          "data": {
            "image/png": "[encoded data removed]",
            "text/plain": [
              "<Figure size 432x288 with 1 Axes>"
            ]
          },
          "metadata": {
            "tags": []
          }
        }
      ]
    },
    {
      "cell_type": "markdown",
      "metadata": {
        "id": "RXauN2Lb-ry4",
        "colab_type": "text"
      },
      "source": [
        "From these charts, we can tell that the learning rate of 0.0001 does not undergo enough iterations to converge to the minimum cost, while the learning rate of 0.001 onverges somwhere close to a cost of 0.51-0.52.\n",
        "\n",
        "Therefore we can say that is reasonable that we cannot stop at 10,000 epochs for a learning rate of 0.0001 and we can stop at around 10,000 epochs for a learning rate of 0.001"
      ]
    },
    {
      "cell_type": "markdown",
      "metadata": {
        "id": "iewMyJoiUbVu",
        "colab_type": "text"
      },
      "source": [
        "## Performing Iterative Mini Batch Gradient Descent "
      ]
    },
    {
      "cell_type": "markdown",
      "metadata": {
        "id": "wJrehh75UbVu",
        "colab_type": "text"
      },
      "source": [
        "*Now* that we have initialized all of our thetas (weights) for all of our features in the dataset, we can begin to perform our mini batch gradient descent the find the change is cost as well as the the most optimum values fro our weights. \n",
        "\n",
        "For this mini batch gradient descent, we will be using a batch size of 50 samples. Since our complete dataset contains 462 rows of data, our last batch will only contain 12 rows \n"
      ]
    },
    {
      "cell_type": "code",
      "metadata": {
        "id": "pa1faf0GUbVv",
        "colab_type": "code",
        "outputId": "8f2b3100-ef11-4000-98a9-68d4a62b35c2",
        "colab": {
          "base_uri": "https://localhost:8080/",
          "height": 459
        }
      },
      "source": [
        "X = np.array(X) # avoids dataframe overhead\n",
        "y = np.array(y) # avoids dataframe overhead\n",
        "\n",
        "# now we will seperate the feature and output total dataset into their own respective batches\n",
        "X_batch = list(batches(X,50)) \n",
        "y_batch = list(batches(y,50))\n",
        "\n",
        "batch_total = len(X_batch)           # counting the total number of batches per epoch \n",
        "\n",
        "max_epochs = max(epochs)\n",
        "\n",
        "alphas = [0.0001, 0.001]\n",
        "epochs = [500, 1000, 10000]\n",
        "\n",
        "cost1_mini = [0]*max_epochs          #initializing the cost array for each mini-batch\n",
        "batch_cost1 = [0]*batch_total        #initialzing the cost array for the total cost from each epoch \n",
        "thetas = thetaInit.copy()\n",
        "\n",
        "print('Starting Mini-Batch Epochs for alpha = 0.001...\\n')\n",
        "\n",
        "for i in range(0,max_epochs):\n",
        "  \n",
        "    for k in range(0,batch_total):\n",
        "            \n",
        "            h = sigmoid(X_batch[k],thetas)\n",
        "            batch_cost1[k] = calc_cost(h,y_batch[k])\n",
        "            thetas = batch_grad_descent(X_batch[k], h, y_batch[k], thetas, 0.001)\n",
        "            \n",
        "    cost1_mini[i] = sum(batch_cost1)/batch_total\n",
        "    \n",
        "    if i % 1000 == 0:\n",
        "         print(i,\"epochs finished\\t\" + 'cost:' + str(cost1_mini[i]))\n",
        "\n",
        "theta_final = thetas.copy()\n",
        "\n",
        "cost2_mini = [0]*max_epochs         #initializing the cost array for each mini-batch\n",
        "batch_cost2 = [0]*batch_total       #initialzing the cost array for the total cost from each epoch\n",
        "thetas = thetaInit.copy()\n",
        "\n",
        "print('\\n')\n",
        "print('Starting Mini-Batch Epochs for alpha = 0.0001...\\n')\n",
        "\n",
        "for i in range(0,max_epochs):\n",
        "  \n",
        "    for k in range(0,batch_total):\n",
        "            \n",
        "            h = sigmoid(X_batch[k],thetas)\n",
        "            batch_cost2[k] = calc_cost(h,y_batch[k])\n",
        "            thetas = batch_grad_descent(X_batch[k], h, y_batch[k], thetas, 0.0001)\n",
        "            \n",
        "    cost2_mini[i] = sum(batch_cost2)/batch_total\n",
        "    \n",
        "    if i % 1000 == 0:\n",
        "         print(i,\"epochs finished\\t\" + 'cost:' + str(cost2_mini[i]))\n"
      ],
      "execution_count": 21,
      "outputs": [
        {
          "output_type": "stream",
          "text": [
            "Starting Mini-Batch Epochs for alpha = 0.001...\n",
            "\n",
            "0 epochs finished\tcost:[1.02060248]\n",
            "1000 epochs finished\tcost:[0.54885306]\n",
            "2000 epochs finished\tcost:[0.53705052]\n",
            "3000 epochs finished\tcost:[0.53471296]\n",
            "4000 epochs finished\tcost:[0.53388874]\n",
            "5000 epochs finished\tcost:[0.53351135]\n",
            "6000 epochs finished\tcost:[0.53332026]\n",
            "7000 epochs finished\tcost:[0.53322014]\n",
            "8000 epochs finished\tcost:[0.53316702]\n",
            "9000 epochs finished\tcost:[0.53313867]\n",
            "\n",
            "\n",
            "Starting Mini-Batch Epochs for alpha = 0.0001...\n",
            "\n",
            "0 epochs finished\tcost:[1.02131677]\n",
            "1000 epochs finished\tcost:[0.85945078]\n",
            "2000 epochs finished\tcost:[0.74346355]\n",
            "3000 epochs finished\tcost:[0.6671593]\n",
            "4000 epochs finished\tcost:[0.62013626]\n",
            "5000 epochs finished\tcost:[0.59196229]\n",
            "6000 epochs finished\tcost:[0.57492151]\n",
            "7000 epochs finished\tcost:[0.56423954]\n",
            "8000 epochs finished\tcost:[0.5572135]\n",
            "9000 epochs finished\tcost:[0.55235816]\n"
          ],
          "name": "stdout"
        }
      ]
    },
    {
      "cell_type": "markdown",
      "metadata": {
        "id": "tzkuLDqzAB1i",
        "colab_type": "text"
      },
      "source": [
        "Next, we will plot the graph for each cost that was found from the cell above (a total of 6 charts)"
      ]
    },
    {
      "cell_type": "code",
      "metadata": {
        "id": "U6KqBO5Chu6t",
        "colab_type": "code",
        "outputId": "03190351-12b5-455e-b65a-b48d7d23554b",
        "colab": {
          "base_uri": "https://localhost:8080/",
          "height": 1685
        }
      },
      "source": [
        "for epoch in epochs:\n",
        "  \n",
        "    plt.scatter(np.linspace(1,epoch,epoch), cost1_mini[0:epoch])\n",
        "    \n",
        "    plt.title('Mini-Batch Cost for alpha = 0.001 , Epochs:' + str(epoch))\n",
        "    plt.xlabel('Epoch')\n",
        "    plt.ylabel('Cost')\n",
        "    plt.grid()\n",
        "    plt.show()\n",
        "    \n",
        "    plt.scatter(np.linspace(1,epoch,epoch), cost2_mini[0:epoch])\n",
        "    \n",
        "    plt.title('Mini-Batch Cost for alpha = 0.0001 , Epochs:' + str(epoch))\n",
        "    plt.xlabel('Epoch')\n",
        "    plt.ylabel('Cost')\n",
        "    plt.grid()\n",
        "    plt.show()"
      ],
      "execution_count": 22,
      "outputs": [
        {
          "output_type": "display_data",
          "data": {
            "image/png": "[encoded data removed]",
            "text/plain": [
              "<Figure size 432x288 with 1 Axes>"
            ]
          },
          "metadata": {
            "tags": []
          }
        },
        {
          "output_type": "display_data",
          "data": {
            "image/png": "[encoded data removed]",
            "text/plain": [
              "<Figure size 432x288 with 1 Axes>"
            ]
          },
          "metadata": {
            "tags": []
          }
        },
        {
          "output_type": "display_data",
          "data": {
            "image/png": "[encoded data removed]",
            "text/plain": [
              "<Figure size 432x288 with 1 Axes>"
            ]
          },
          "metadata": {
            "tags": []
          }
        },
        {
          "output_type": "display_data",
          "data": {
            "image/png": "[encoded data removed]",
            "text/plain": [
              "<Figure size 432x288 with 1 Axes>"
            ]
          },
          "metadata": {
            "tags": []
          }
        },
        {
          "output_type": "display_data",
          "data": {
            "image/png": "[encoded data removed]",
            "text/plain": [
              "<Figure size 432x288 with 1 Axes>"
            ]
          },
          "metadata": {
            "tags": []
          }
        },
        {
          "output_type": "display_data",
          "data": {
            "image/png": "[encoded data removed]",
            "text/plain": [
              "<Figure size 432x288 with 1 Axes>"
            ]
          },
          "metadata": {
            "tags": []
          }
        }
      ]
    },
    {
      "cell_type": "markdown",
      "metadata": {
        "id": "YcBCdqwRAEVG",
        "colab_type": "text"
      },
      "source": [
        "From these charts, we can tell that once again, the learning rate of 0.0001 does not undergo enough iterations to converge to a minimum cost, while the learning rate of 0.001 onverges somwhere close to a cost of 0.51-0.52.\n",
        "\n",
        "Therefore we can say that is reasonable that we cannot stop at 10,000 epochs for a learning rate of 0.0001 and we can stop at around 2,000 epochs for a learning rate of 0.001"
      ]
    },
    {
      "cell_type": "markdown",
      "metadata": {
        "id": "EziB-RumUbV3",
        "colab_type": "text"
      },
      "source": [
        "## Validating Our Model Using Sci-Kit Learn's LogisticRegression "
      ]
    },
    {
      "cell_type": "markdown",
      "metadata": {
        "id": "NDix1nzcUbV4",
        "colab_type": "text"
      },
      "source": [
        "Now that we've obtained out results it is time to test out how accurate they actually are. To do this, we will compare our results to he ones given by the sci-kit learn LogisticRegression function using the fit() object. Below we can see our results."
      ]
    },
    {
      "cell_type": "code",
      "metadata": {
        "id": "LFOH6AN9jkRb",
        "colab_type": "code",
        "colab": {}
      },
      "source": [
        "import warnings\n",
        "warnings.filterwarnings(\"ignore\") # suppressing sklearn warnings for Sci-kit learn's solver "
      ],
      "execution_count": 0,
      "outputs": []
    },
    {
      "cell_type": "code",
      "metadata": {
        "id": "qTZCVCfrUbV5",
        "colab_type": "code",
        "colab": {}
      },
      "source": [
        "logisticRegr = LogisticRegression()  #performing logistic regression "
      ],
      "execution_count": 0,
      "outputs": []
    },
    {
      "cell_type": "code",
      "metadata": {
        "id": "FjWW5Z_xUbV-",
        "colab_type": "code",
        "outputId": "275181d4-e391-4234-dcb7-221857b76fe6",
        "colab": {
          "base_uri": "https://localhost:8080/",
          "height": 238
        }
      },
      "source": [
        "logisticRegr.fit(X, y)               #fitting the model \n",
        "\n",
        "print ('The Sci-Kit Learn Logistic Regression weights are: \\n')\n",
        "print ('theta 0 = ' + str(logisticRegr.coef_[0][0]))\n",
        "print ('theta 1 = ' + str(logisticRegr.coef_[0][1]))\n",
        "print ('theta 2 = ' + str(logisticRegr.coef_[0][2]))\n",
        "print ('theta 3 = ' + str(logisticRegr.coef_[0][3]))\n",
        "print ('theta 4 = ' + str(logisticRegr.coef_[0][4]))\n",
        "print ('theta 5 = ' + str(logisticRegr.coef_[0][5]))\n",
        "print ('theta 6 = ' + str(logisticRegr.coef_[0][6]))\n",
        "print ('theta 7 = ' + str(logisticRegr.coef_[0][7]))\n",
        "print ('theta 8 = ' + str(logisticRegr.coef_[0][8]))\n",
        "print ('theta 9 = ' + str(logisticRegr.coef_[0][9]))\n",
        "print ('theta 10 = ' + str(logisticRegr.coef_[0][10]))"
      ],
      "execution_count": 25,
      "outputs": [
        {
          "output_type": "stream",
          "text": [
            "The Sci-Kit Learn Logistic Regression weights are: \n",
            "\n",
            "theta 0 = -0.3163818182532838\n",
            "theta 1 = -0.6096602360642907\n",
            "theta 2 = 0.29327841781101577\n",
            "theta 3 = 0.13304861516866623\n",
            "theta 4 = 0.36174850063654485\n",
            "theta 5 = 0.35522970875919474\n",
            "theta 6 = 0.14254346879992108\n",
            "theta 7 = 0.37916715523075906\n",
            "theta 8 = -0.255769023944752\n",
            "theta 9 = 0.0034036744779752945\n",
            "theta 10 = 0.6465651604992869\n"
          ],
          "name": "stdout"
        }
      ]
    },
    {
      "cell_type": "code",
      "metadata": {
        "id": "3h7Gr0XrUbWM",
        "colab_type": "code",
        "colab": {
          "base_uri": "https://localhost:8080/",
          "height": 289
        },
        "outputId": "0ffa2959-7cde-4d5f-ee9e-0598c55e6499"
      },
      "source": [
        "print('The final wieghts calucated by our mini-batch gradient descent are: \\n')\n",
        "print ('thetas= ' + str(theta_final[0]))\n",
        "print('\\n')\n",
        "print ('theta 1 = ' + str(theta_final[0][0]))\n",
        "print ('theta 2 = ' + str(theta_final[0][1]))\n",
        "print ('theta 3 = ' + str(theta_final[0][2]))\n",
        "print ('theta 4 = ' + str(theta_final[0][3]))\n",
        "print ('theta 5 = ' + str(theta_final[0][4]))\n",
        "print ('theta 6 = ' + str(theta_final[0][6]))\n",
        "print ('theta 7 = ' + str(theta_final[0][7]))\n",
        "print ('theta 8 = ' + str(theta_final[0][8]))\n",
        "print ('theta 9 = ' + str(theta_final[0][9]))\n",
        "print ('theta 10 = ' + str(theta_final[0][10]))"
      ],
      "execution_count": 32,
      "outputs": [
        {
          "output_type": "stream",
          "text": [
            "The final wieghts calucated by our mini-batch gradient descent are: \n",
            "\n",
            "thetas= [-0.7800286  -0.38025107  0.46329355  0.07835026  0.34240807  0.28986055\n",
            "  0.34499696  0.27417668 -0.36477394  0.01309635  0.5141401 ]\n",
            "\n",
            "\n",
            "theta 1 = -0.7800286010047379\n",
            "theta 2 = -0.3802510731542737\n",
            "theta 3 = 0.46329355137385586\n",
            "theta 4 = 0.07835026212126954\n",
            "theta 5 = 0.34240806724150225\n",
            "theta 6 = 0.3449969621149868\n",
            "theta 7 = 0.2741766843631624\n",
            "theta 8 = -0.36477394448410405\n",
            "theta 9 = 0.013096346881632403\n",
            "theta 10 = 0.5141400954051177\n"
          ],
          "name": "stdout"
        }
      ]
    },
    {
      "cell_type": "markdown",
      "metadata": {
        "id": "mktjiaMmkBsP",
        "colab_type": "text"
      },
      "source": [
        "As we can see, there are some values with little difference between the logisitc regression and our gradient descent, and there are other coefficients (eg. theta 0) have a larger, double-digit differences\n",
        "\n",
        "This could  be explained by the scikit-learn algorithm either performing a muc fewer number of iterations, resulting in  different local minima for the cost function,. Another potential result for the difference is using a different method of coefficient approximation other than gradient descent. It is possible that the logistic regression toolbox utilizes Newton's method rather than regular gradient descent or mini-batch gradient descent. "
      ]
    },
    {
      "cell_type": "markdown",
      "metadata": {
        "id": "hHNZ5Ff8k1Gn",
        "colab_type": "text"
      },
      "source": [
        "##Conclusion"
      ]
    },
    {
      "cell_type": "markdown",
      "metadata": {
        "id": "17hzv7Fdk4_H",
        "colab_type": "text"
      },
      "source": [
        "Overall, this lab taught us that we can successfully implement a method of performing logistic regression using the gradient descent algorithm to predict feature weights of a particular dataset.\n",
        "\n",
        "To overcome the total overhead from using a dataframe to perform all te calculations necessary., it is important to convert the dataset into mathematical array, that allow us to perofrm calculations using the numpy library alot quicker, thus improving the performance and effeciency of this algorithm tremendously. \n",
        "\n"
      ]
    },
    {
      "cell_type": "code",
      "metadata": {
        "id": "mwKszVM6k_7y",
        "colab_type": "code",
        "colab": {}
      },
      "source": [
        ""
      ],
      "execution_count": 0,
      "outputs": []
    }
  ]
}